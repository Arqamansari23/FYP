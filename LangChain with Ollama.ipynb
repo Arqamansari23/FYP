{
 "cells": [
  {
   "cell_type": "markdown",
   "metadata": {},
   "source": [
    "# Loading libraries "
   ]
  },
  {
   "cell_type": "code",
   "execution_count": 8,
   "metadata": {},
   "outputs": [],
   "source": [
    "\n",
    "from langchain_core.prompts import ChatPromptTemplate   # for promt\n",
    "from langchain_core.output_parsers import StrOutputParser   # for Output display\n",
    "from langchain_community.llms import Ollama  # Ollama for model \n",
    "import os\n",
    "from dotenv import load_dotenv"
   ]
  },
  {
   "cell_type": "markdown",
   "metadata": {},
   "source": [
    "# Setting Langsmith Api key For Model Monitoring "
   ]
  },
  {
   "cell_type": "code",
   "execution_count": 9,
   "metadata": {},
   "outputs": [],
   "source": [
    "# Set environment variables directly (replace with your actual API key)\n",
    "os.environ[\"LANGCHAIN_TRACING_V2\"] = \"true\"\n",
    "os.environ[\"LANGCHAIN_API_KEY\"] = \"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\""
   ]
  },
  {
   "cell_type": "markdown",
   "metadata": {},
   "source": [
    "# Creating Prompt"
   ]
  },
  {
   "cell_type": "code",
   "execution_count": 10,
   "metadata": {},
   "outputs": [],
   "source": [
    "prompt = ChatPromptTemplate.from_messages(\n",
    "    [\n",
    "        (\"system\", \"You are a helpful assistant. Please respond to the user queries.\"),\n",
    "        (\"user\", \"Question: {question}\")\n",
    "    ]\n",
    ")"
   ]
  },
  {
   "cell_type": "markdown",
   "metadata": {},
   "source": [
    "# Set up LLama2 and LangChain"
   ]
  },
  {
   "cell_type": "code",
   "execution_count": 11,
   "metadata": {},
   "outputs": [],
   "source": [
    "\n",
    "llm = Ollama(model=\"llama3.1\")\n",
    "output_parser = StrOutputParser()"
   ]
  },
  {
   "cell_type": "markdown",
   "metadata": {},
   "source": [
    "# Creating Chain "
   ]
  },
  {
   "cell_type": "code",
   "execution_count": 12,
   "metadata": {},
   "outputs": [],
   "source": [
    "chain = prompt | llm | output_parser"
   ]
  },
  {
   "cell_type": "code",
   "execution_count": 13,
   "metadata": {},
   "outputs": [],
   "source": [
    "# 4. Provide Default Input\n",
    "input_text = \"What is the current state of AI in 2024?\"  "
   ]
  },
  {
   "cell_type": "code",
   "execution_count": 14,
   "metadata": {},
   "outputs": [],
   "source": [
    "response = chain.invoke({\"question\": input_text})"
   ]
  },
  {
   "cell_type": "code",
   "execution_count": 15,
   "metadata": {},
   "outputs": [
    {
     "data": {
      "text/plain": [
       "\"As your helpful assistant, I'm happy to provide you with an update on the current state of Artificial Intelligence (AI) in 2024.\\n\\n**Advancements in AI:**\\n\\nIn 2024, AI has continued to make tremendous progress across various domains. Some notable developments include:\\n\\n1. **Increased Adoption:** AI has become ubiquitous in numerous industries, including healthcare, finance, education, and transportation.\\n2. **Improved Explainability:** Researchers have made significant strides in developing more transparent and interpretable AI models, which is essential for building trust in AI-driven decision-making.\\n3. **Advances in Natural Language Processing (NLP):** NLP has become increasingly sophisticated, enabling AI systems to understand and generate human-like language, including nuances of tone, context, and emotions.\\n4. **Rise of Edge AI:** With the proliferation of IoT devices and edge computing, AI models are now being deployed closer to the source of data, reducing latency and improving real-time decision-making.\\n\\n**Key Areas of Focus:**\\n\\nIn 2024, researchers and developers are concentrating on:\\n\\n1. **Edge AI and Federated Learning:** These technologies enable AI models to be trained on decentralized data sources, ensuring more accurate and secure predictions.\\n2. **Explainable AI (XAI) and Transparency:** As AI becomes more pervasive, there's a growing need for transparent and explainable decision-making processes.\\n3. **Human-AI Collaboration:** The focus is shifting from pure AI-driven decision-making to human-AI collaboration, where humans work alongside AI systems to achieve common goals.\\n4. **Ethics and Trustworthiness:** There's a heightened emphasis on developing AI systems that are trustworthy, transparent, and align with human values.\\n\\n**Challenges Ahead:**\\n\\nWhile AI has made tremendous progress, there are still significant challenges to address:\\n\\n1. **Bias and Fairness:** Ensuring AI systems do not perpetuate biases or discriminate against certain groups remains an ongoing concern.\\n2. **Security Risks:** As AI becomes more integrated into critical infrastructure, protecting against potential security threats is a top priority.\\n3. **Job Displacement:** The impact of automation on employment will continue to be a pressing issue as AI assumes routine and repetitive tasks.\\n\\n**Conclusion:**\\n\\nIn summary, the current state of AI in 2024 is one of rapid progress, with significant advancements in NLP, edge AI, and transparency. As researchers and developers continue to push the boundaries of what's possible, it's essential to address the challenges associated with AI adoption, including bias, security risks, and job displacement.\\n\\nWould you like me to elaborate on any specific aspect of AI in 2024?\""
      ]
     },
     "execution_count": 15,
     "metadata": {},
     "output_type": "execute_result"
    }
   ],
   "source": [
    "response"
   ]
  },
  {
   "cell_type": "code",
   "execution_count": null,
   "metadata": {},
   "outputs": [],
   "source": []
  }
 ],
 "metadata": {
  "kernelspec": {
   "display_name": "Python 3",
   "language": "python",
   "name": "python3"
  },
  "language_info": {
   "codemirror_mode": {
    "name": "ipython",
    "version": 3
   },
   "file_extension": ".py",
   "mimetype": "text/x-python",
   "name": "python",
   "nbconvert_exporter": "python",
   "pygments_lexer": "ipython3",
   "version": "3.9.19"
  }
 },
 "nbformat": 4,
 "nbformat_minor": 2
}
